{
 "cells": [
  {
   "cell_type": "markdown",
   "metadata": {
    "id": "VpKKdNT6PaKr"
   },
   "source": [
    "Prepare the environment to use Google Drive as temporary storage for the execution."
   ]
  },
  {
   "cell_type": "code",
   "execution_count": null,
   "metadata": {
    "colab": {
     "base_uri": "https://localhost:8080/"
    },
    "id": "W-lddtO71ou1",
    "outputId": "66675a80-9006-4180-dd6e-2d86e2f77697"
   },
   "outputs": [],
   "source": [
    "from google.colab import drive\n",
    "drive.mount('/content/drive')"
   ]
  },
  {
   "cell_type": "markdown",
   "metadata": {
    "id": "c2qbmTdH1_xi"
   },
   "source": [
    "Install code from GitHub repository"
   ]
  },
  {
   "cell_type": "code",
   "execution_count": null,
   "metadata": {
    "colab": {
     "base_uri": "https://localhost:8080/"
    },
    "id": "aX1kCk9i2G-A",
    "outputId": "0bc42383-8c76-4ece-da6a-8948e385837c"
   },
   "outputs": [],
   "source": [
    "!git clone https://github.com/terrabrasilis/raster-grid-brasil.git"
   ]
  },
  {
   "cell_type": "markdown",
   "metadata": {
    "id": "VahaNbejJshs"
   },
   "source": [
    "Install GDAL library"
   ]
  },
  {
   "cell_type": "code",
   "execution_count": null,
   "metadata": {
    "colab": {
     "base_uri": "https://localhost:8080/"
    },
    "id": "PCcD_2dZJZ-o",
    "outputId": "9f3bbafb-36de-49cf-fe23-314942a52989"
   },
   "outputs": [],
   "source": [
    "!pip install GDAL"
   ]
  },
  {
   "cell_type": "markdown",
   "metadata": {
    "id": "D-QQJMQuO646"
   },
   "source": [
    "Go to the root of the cloned repository where the python codes are"
   ]
  },
  {
   "cell_type": "code",
   "execution_count": null,
   "metadata": {
    "colab": {
     "base_uri": "https://localhost:8080/"
    },
    "id": "0iCbAeG4OzoS",
    "outputId": "5e791365-7276-49a3-d251-1f66c9fe49b6"
   },
   "outputs": [],
   "source": [
    "%cd ./raster-grid-brasil/"
   ]
  },
  {
   "cell_type": "markdown",
   "metadata": {
    "id": "cnqtq_CiOUlU"
   },
   "source": [
    "And use the tool to align a bbox"
   ]
  },
  {
   "cell_type": "code",
   "execution_count": null,
   "metadata": {
    "colab": {
     "base_uri": "https://localhost:8080/"
    },
    "id": "n9BsUCC-OgRm",
    "outputId": "e23423ac-8740-4c94-af76-86bdc606f8fa"
   },
   "outputs": [],
   "source": [
    "from adjust_extent import bbox_align\n",
    "\n",
    "# the input BBOX (e.g. xmin,ymin,xmax,ymax)\n",
    "input_bbox=\"-61.63331222199997,-18.041560999999945,-50.20914025899998,-7.348087549999946\" # Mato Grosso\n",
    "\n",
    "bbox=bbox_align(input_bbox)\n",
    "if bbox is not None:\n",
    "    print(f\"output={bbox}\")\n",
    "else:\n",
    "    print(\"Failed to adjust input BBOX.\")"
   ]
  }
 ],
 "metadata": {
  "colab": {
   "provenance": []
  },
  "kernelspec": {
   "display_name": "Python 3",
   "name": "python3"
  },
  "language_info": {
   "name": "python"
  }
 },
 "nbformat": 4,
 "nbformat_minor": 0
}
